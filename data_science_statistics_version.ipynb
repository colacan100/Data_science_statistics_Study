{
 "cells": [
  {
   "cell_type": "code",
   "execution_count": 1,
   "id": "02a3b3a1",
   "metadata": {},
   "outputs": [
    {
     "name": "stdout",
     "output_type": "stream",
     "text": [
      "----------------------------------------------------------------------------------------------------\n",
      "- 라이브러리 버전 체크\n",
      "----------------------------------------------------------------------------------------------------\n",
      "Python 버전: 3.7.11 (default, Jul 27 2021, 09:42:29) [MSC v.1916 64 bit (AMD64)]\n",
      "pandas version: 1.3.5\n",
      "matplotlib version: 3.5.1\n",
      "numpy version: 1.21.5\n",
      "scipy version: 1.7.3\n",
      "scikit-learn version: 1.0.2\n",
      "seaborn version: 0.11.2\n",
      "statsmodels version: 0.13.1\n"
     ]
    }
   ],
   "source": [
    "#-----------------------------------------------------\n",
    "#\n",
    "# 라이브러리 버전을 체크\n",
    "#\n",
    "#-----------------------------------------------------\n",
    "print('-'*100)\n",
    "print(\"- 라이브러리 버전 체크\")\n",
    "print('-'*100)\n",
    "\n",
    "import sys\n",
    "print(\"Python 버전: {}\".format(sys.version))\n",
    "\n",
    "import pandas as pd\n",
    "print(\"pandas version: {}\".format(pd.__version__))\n",
    "\n",
    "import matplotlib\n",
    "print(\"matplotlib version: {}\".format(matplotlib.__version__))\n",
    "\n",
    "import numpy as np\n",
    "print(\"numpy version: {}\".format(np.__version__))\n",
    "\n",
    "import scipy as sp\n",
    "print(\"scipy version: {}\".format(sp.__version__))\n",
    "\n",
    "import sklearn\n",
    "print(\"scikit-learn version: {}\".format(sklearn.__version__))\n",
    "\n",
    "import seaborn as sns\n",
    "print(\"seaborn version: {}\".format(sns.__version__))\n",
    "\n",
    "import statsmodels as sm\n",
    "print(\"statsmodels version: {}\".format(sm.__version__))"
   ]
  },
  {
   "cell_type": "code",
   "execution_count": null,
   "id": "1b5b24ad",
   "metadata": {},
   "outputs": [],
   "source": []
  }
 ],
 "metadata": {
  "kernelspec": {
   "display_name": "data_science",
   "language": "python",
   "name": "data_science"
  },
  "language_info": {
   "codemirror_mode": {
    "name": "ipython",
    "version": 3
   },
   "file_extension": ".py",
   "mimetype": "text/x-python",
   "name": "python",
   "nbconvert_exporter": "python",
   "pygments_lexer": "ipython3",
   "version": "3.7.11"
  }
 },
 "nbformat": 4,
 "nbformat_minor": 5
}
